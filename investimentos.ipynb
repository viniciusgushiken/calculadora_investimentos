{
 "cells": [
  {
   "cell_type": "code",
   "execution_count": 149,
   "metadata": {},
   "outputs": [
    {
     "name": "stdout",
     "output_type": "stream",
     "text": [
      "Valor inicial: R$50,000.00\n",
      "Aporte mensal: R$1,500.00\n",
      "Meses: 24\n",
      "Anos: 2\n",
      "Rendimento mensal: 0.5 %\n",
      "Rendimento anual: 6.0 % \n",
      "\n",
      "Mês 0: R$ 50000\n",
      "Mês 1 : R$51,750.00\n",
      "Mês 2 : R$53,508.75\n",
      "Mês 3 : R$55,276.29\n",
      "Mês 4 : R$57,052.68\n",
      "Mês 5 : R$58,837.94\n",
      "Mês 6 : R$60,632.13\n",
      "Mês 7 : R$62,435.29\n",
      "Mês 8 : R$64,247.47\n",
      "Mês 9 : R$66,068.70\n",
      "Mês 10 : R$67,899.05\n",
      "Mês 11 : R$69,738.54\n",
      "Mês 12 : R$71,587.23\n",
      "Mês 13 : R$73,445.17\n",
      "Mês 14 : R$75,312.40\n",
      "Mês 15 : R$77,188.96\n",
      "Mês 16 : R$79,074.90\n",
      "Mês 17 : R$80,970.28\n",
      "Mês 18 : R$82,875.13\n",
      "Mês 19 : R$84,789.50\n",
      "Mês 20 : R$86,713.45\n",
      "Mês 21 : R$88,647.02\n",
      "Mês 22 : R$90,590.25\n",
      "Mês 23 : R$92,543.21\n",
      "Mês 24 : R$94,505.92\n",
      "\n",
      " \n",
      "\n",
      "Mês 1 : R$51,500.00\n",
      "Mês 2 : R$53,000.00\n",
      "Mês 3 : R$54,500.00\n",
      "Mês 4 : R$56,000.00\n",
      "Mês 5 : R$57,500.00\n",
      "Mês 6 : R$59,000.00\n",
      "Mês 7 : R$60,500.00\n",
      "Mês 8 : R$62,000.00\n",
      "Mês 9 : R$63,500.00\n",
      "Mês 10 : R$65,000.00\n",
      "Mês 11 : R$66,500.00\n",
      "Mês 12 : R$68,000.00\n",
      "Mês 13 : R$69,500.00\n",
      "Mês 14 : R$71,000.00\n",
      "Mês 15 : R$72,500.00\n",
      "Mês 16 : R$74,000.00\n",
      "Mês 17 : R$75,500.00\n",
      "Mês 18 : R$77,000.00\n",
      "Mês 19 : R$78,500.00\n",
      "Mês 20 : R$80,000.00\n",
      "Mês 21 : R$81,500.00\n",
      "Mês 22 : R$83,000.00\n",
      "Mês 23 : R$84,500.00\n",
      "Mês 24 : R$86,000.00\n",
      "\n",
      " \n",
      "\n",
      "Em 2 anos, a diferença será de R$ 8505.92\n"
     ]
    },
    {
     "data": {
      "text/plain": [
       "<matplotlib.axes._subplots.AxesSubplot at 0x24aae64fa48>"
      ]
     },
     "execution_count": 149,
     "metadata": {},
     "output_type": "execute_result"
    },
    {
     "data": {
      "image/png": "[encoded data removed]",
      "text/plain": [
       "<Figure size 432x288 with 1 Axes>"
      ]
     },
     "metadata": {
      "needs_background": "light"
     },
     "output_type": "display_data"
    }
   ],
   "source": [
    "import pandas as pd\n",
    "import seaborn as sns\n",
    "\n",
    "#formula valor futuro com aportes mensais https://www.thecalculatorsite.com/articles/finance/compound-interest-formula.php\n",
    "# valor_futuro_aporte_mensal = (valor_atual*(1+taxa_mensal)**meses) + (aporte_mensal * (((1+taxa_mensal)**meses - 1)/taxa_mensal))\n",
    "\n",
    "valor_atual = 50000 \n",
    "aporte_mensal = 1500\n",
    "taxa_mensal = 0.005\n",
    "taxa_anual = taxa_mensal*12\n",
    "meses = 24\n",
    "anos = meses/12\n",
    "\n",
    "print(\"Valor inicial:\", \"R${:,.2f}\".format(valor_atual))\n",
    "print(\"Aporte mensal:\", \"R${:,.2f}\".format(aporte_mensal))\n",
    "print(\"Meses:\", meses)\n",
    "print(\"Anos:\", round(anos))\n",
    "print(\"Rendimento mensal:\", taxa_mensal*100,\"%\")\n",
    "print(\"Rendimento anual:\", taxa_anual*100,\"%\", '\\n')\n",
    "print(\"Mês 0: R$\",valor_atual)\n",
    "\n",
    "# investindo\n",
    "montante_por_mes = [valor_atual]\n",
    "\n",
    "for i in range(meses):\n",
    "    \n",
    "    montante = (valor_atual*(1+taxa_mensal)**(i+1)) + (aporte_mensal * (((1+taxa_mensal)**(i+1) - 1)/taxa_mensal))\n",
    "    \n",
    "    montante_por_mes.append(montante)\n",
    "    print(\"Mês\", (i+1),\":\",\"R${:,.2f}\".format(montante))\n",
    "\n",
    "\n",
    "\n",
    "#sem investir\n",
    "print('\\n \\n')\n",
    "\n",
    "montante_por_mes_sem_investir = [valor_atual]\n",
    "\n",
    "for i in range(meses):\n",
    "    \n",
    "    valor_atual += aporte_mensal\n",
    "    \n",
    "    montante_por_mes_sem_investir.append(valor_atual)\n",
    "    print(\"Mês\", (i+1),\":\",\"R${:,.2f}\".format(valor_atual))\n",
    "\n",
    "\n",
    "print('\\n \\n')\n",
    "\n",
    "#diferença entre o valor rendendo e o valor que não está rendendo\n",
    "diferenca = montante_por_mes[-1] - montante_por_mes_sem_investir[-1]\n",
    "print(\"Em\", round(anos), \"anos, a diferença será de R$\",round(diferenca,2))\n",
    "\n",
    "#criando gráfico\n",
    "df = pd.DataFrame({'investindo':montante_por_mes,'sem_investir':montante_por_mes_sem_investir})\n",
    "sns.lineplot(data=df)"
   ]
  }
 ],
 "metadata": {
  "kernelspec": {
   "display_name": "Python 3",
   "language": "python",
   "name": "python3"
  },
  "language_info": {
   "codemirror_mode": {
    "name": "ipython",
    "version": 3
   },
   "file_extension": ".py",
   "mimetype": "text/x-python",
   "name": "python",
   "nbconvert_exporter": "python",
   "pygments_lexer": "ipython3",
   "version": "3.7.6"
  }
 },
 "nbformat": 4,
 "nbformat_minor": 4
}
